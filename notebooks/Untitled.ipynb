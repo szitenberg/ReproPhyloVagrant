{
 "cells": [
  {
   "cell_type": "code",
   "execution_count": 1,
   "metadata": {
    "collapsed": true
   },
   "outputs": [],
   "source": [
    "from reprophylo import *"
   ]
  },
  {
   "cell_type": "code",
   "execution_count": 2,
   "metadata": {
    "collapsed": true
   },
   "outputs": [],
   "source": [
    "t = Tree('(((a,b),(c,d)),e);')"
   ]
  },
  {
   "cell_type": "code",
   "execution_count": 3,
   "metadata": {
    "collapsed": false
   },
   "outputs": [
    {
     "name": "stdout",
     "output_type": "stream",
     "text": [
      "\n",
      "         /-a\n",
      "      /-|\n",
      "     |   \\-b\n",
      "   /-|\n",
      "  |  |   /-c\n",
      "--|   \\-|\n",
      "  |      \\-d\n",
      "  |\n",
      "   \\-e\n"
     ]
    }
   ],
   "source": [
    "print t"
   ]
  },
  {
   "cell_type": "code",
   "execution_count": 4,
   "metadata": {
    "collapsed": false
   },
   "outputs": [
    {
     "data": {
      "text/plain": [
       "{'faces': [[67.0, 73.0, 75.0, 91.0, 8, 'e'],\n",
       "  [193.0, 1.0, 201.0, 19.0, 3, 'a'],\n",
       "  [193.0, 19.0, 201.0, 37.0, 4, 'b'],\n",
       "  [193.0, 37.0, 200.0, 55.0, 6, 'c'],\n",
       "  [193.0, 55.0, 201.0, 73.0, 7, 'd']],\n",
       " 'node_areas': {0: [1.0, 1.0, 201.0, 91.0],\n",
       "  1: [4.0, 1.0, 201.0, 73.0],\n",
       "  2: [67.0, 1.0, 201.0, 37.0],\n",
       "  3: [130.0, 1.0, 201.0, 19.0],\n",
       "  4: [130.0, 19.0, 201.0, 37.0],\n",
       "  5: [67.0, 37.0, 201.0, 73.0],\n",
       "  6: [130.0, 37.0, 200.0, 55.0],\n",
       "  7: [130.0, 55.0, 201.0, 73.0],\n",
       "  8: [4.0, 73.0, 75.0, 91.0]},\n",
       " 'nodes': [[64.0, 35.5, 67.0, 38.5, 1, None],\n",
       "  [127.0, 17.5, 130.0, 20.5, 2, None],\n",
       "  [64.0, 80.5, 67.0, 83.5, 8, None],\n",
       "  [127.0, 53.5, 130.0, 56.5, 5, None],\n",
       "  [190.0, 8.5, 193.0, 11.5, 3, None],\n",
       "  [190.0, 26.5, 193.0, 29.5, 4, None],\n",
       "  [190.0, 44.5, 193.0, 47.5, 6, None],\n",
       "  [1.0, 58.0, 4.0, 61.0, 0, None],\n",
       "  [190.0, 62.5, 193.0, 65.5, 7, None]]}"
      ]
     },
     "execution_count": 4,
     "metadata": {},
     "output_type": "execute_result"
    }
   ],
   "source": [
    "t.render('test.png')"
   ]
  },
  {
   "cell_type": "code",
   "execution_count": null,
   "metadata": {
    "collapsed": true
   },
   "outputs": [],
   "source": []
  }
 ],
 "metadata": {
  "kernelspec": {
   "display_name": "Python 2",
   "language": "python",
   "name": "python2"
  },
  "language_info": {
   "codemirror_mode": {
    "name": "ipython",
    "version": 2
   },
   "file_extension": ".py",
   "mimetype": "text/x-python",
   "name": "python",
   "nbconvert_exporter": "python",
   "pygments_lexer": "ipython2",
   "version": "2.7.6"
  }
 },
 "nbformat": 4,
 "nbformat_minor": 0
}
